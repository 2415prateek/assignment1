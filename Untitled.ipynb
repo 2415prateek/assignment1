{
 "cells": [
  {
   "cell_type": "markdown",
   "id": "cc6dbec4-1f9d-4f59-9359-feb93fa6e462",
   "metadata": {},
   "source": [
    "Ans -1"
   ]
  },
  {
   "cell_type": "code",
   "execution_count": 1,
   "id": "74c67f20-d4d8-41f4-8104-6a7999a28755",
   "metadata": {},
   "outputs": [],
   "source": [
    "a = \"Prateek\""
   ]
  },
  {
   "cell_type": "code",
   "execution_count": 2,
   "id": "78b7d941-add2-4066-9598-3fd2813a59f0",
   "metadata": {},
   "outputs": [
    {
     "data": {
      "text/plain": [
       "str"
      ]
     },
     "execution_count": 2,
     "metadata": {},
     "output_type": "execute_result"
    }
   ],
   "source": [
    "type(a)"
   ]
  },
  {
   "cell_type": "code",
   "execution_count": 3,
   "id": "0e867df3-32c9-42d5-9527-c30d98d86cf0",
   "metadata": {},
   "outputs": [],
   "source": [
    "b=[1,2,3,5,65,45.25,\"hello\",True]"
   ]
  },
  {
   "cell_type": "code",
   "execution_count": 4,
   "id": "9680601c-7aa0-44dd-9bb7-2cceae7d8e85",
   "metadata": {},
   "outputs": [
    {
     "data": {
      "text/plain": [
       "list"
      ]
     },
     "execution_count": 4,
     "metadata": {},
     "output_type": "execute_result"
    }
   ],
   "source": [
    "type(b)"
   ]
  },
  {
   "cell_type": "code",
   "execution_count": 5,
   "id": "0fa077e8-47af-4b82-91bc-904734f425dd",
   "metadata": {},
   "outputs": [],
   "source": [
    "c=12.45"
   ]
  },
  {
   "cell_type": "code",
   "execution_count": 6,
   "id": "7d43360d-c41d-441d-b5d0-a81a0108ba62",
   "metadata": {},
   "outputs": [
    {
     "data": {
      "text/plain": [
       "float"
      ]
     },
     "execution_count": 6,
     "metadata": {},
     "output_type": "execute_result"
    }
   ],
   "source": [
    "type(c)"
   ]
  },
  {
   "cell_type": "code",
   "execution_count": 7,
   "id": "a5af4841-f220-4807-aab2-26fb7a0b1057",
   "metadata": {},
   "outputs": [],
   "source": [
    "a=(1,3,3,4,5,\"hello\")"
   ]
  },
  {
   "cell_type": "code",
   "execution_count": 8,
   "id": "f2f81494-037e-454c-89d3-5eef53cbf120",
   "metadata": {},
   "outputs": [
    {
     "data": {
      "text/plain": [
       "tuple"
      ]
     },
     "execution_count": 8,
     "metadata": {},
     "output_type": "execute_result"
    }
   ],
   "source": [
    "type(a)"
   ]
  },
  {
   "cell_type": "markdown",
   "id": "e906891f-ae45-45f1-a6a9-cdd26edbdf6e",
   "metadata": {},
   "source": [
    "Ans2"
   ]
  },
  {
   "cell_type": "code",
   "execution_count": 9,
   "id": "d599619f-3312-40e2-b6a5-bbf8aad9cfca",
   "metadata": {},
   "outputs": [],
   "source": [
    "var1=\"\""
   ]
  },
  {
   "cell_type": "code",
   "execution_count": 10,
   "id": "d4484889-4801-446f-ba33-2fab69507a00",
   "metadata": {},
   "outputs": [
    {
     "data": {
      "text/plain": [
       "str"
      ]
     },
     "execution_count": 10,
     "metadata": {},
     "output_type": "execute_result"
    }
   ],
   "source": [
    "type(var1)"
   ]
  },
  {
   "cell_type": "code",
   "execution_count": 11,
   "id": "f6ba8d99-609c-4967-ad71-08ad9656adcd",
   "metadata": {},
   "outputs": [],
   "source": [
    "var2='[DS,ML,PYTHON]'"
   ]
  },
  {
   "cell_type": "code",
   "execution_count": 12,
   "id": "0dc0c2af-594b-4fbd-8f67-77e335337df6",
   "metadata": {},
   "outputs": [
    {
     "data": {
      "text/plain": [
       "str"
      ]
     },
     "execution_count": 12,
     "metadata": {},
     "output_type": "execute_result"
    }
   ],
   "source": [
    "type(var2)"
   ]
  },
  {
   "cell_type": "code",
   "execution_count": 13,
   "id": "1d22628e-4d44-426b-8734-27bbc2c2c045",
   "metadata": {},
   "outputs": [],
   "source": [
    "var3=[\"DS\",\"ML\",\"PYTHON\"]"
   ]
  },
  {
   "cell_type": "code",
   "execution_count": 14,
   "id": "ffc3bad8-40cc-47ba-a421-d88309a4ee0a",
   "metadata": {},
   "outputs": [
    {
     "data": {
      "text/plain": [
       "list"
      ]
     },
     "execution_count": 14,
     "metadata": {},
     "output_type": "execute_result"
    }
   ],
   "source": [
    "type(var3)"
   ]
  },
  {
   "cell_type": "code",
   "execution_count": 15,
   "id": "b7994165-e842-49b0-b9f7-e23e3260faff",
   "metadata": {},
   "outputs": [],
   "source": [
    "var4=1"
   ]
  },
  {
   "cell_type": "code",
   "execution_count": 16,
   "id": "075cc5ed-06a5-49c5-8f85-a75984221f0c",
   "metadata": {},
   "outputs": [
    {
     "data": {
      "text/plain": [
       "int"
      ]
     },
     "execution_count": 16,
     "metadata": {},
     "output_type": "execute_result"
    }
   ],
   "source": [
    "type(var4)"
   ]
  },
  {
   "cell_type": "markdown",
   "id": "6a3783e1-3479-4559-9f02-148da9b4ad8a",
   "metadata": {},
   "source": [
    "Ans-3"
   ]
  },
  {
   "cell_type": "markdown",
   "id": "8182f4f1-fecf-4354-bdf7-ae59797cfc0e",
   "metadata": {},
   "source": [
    "/ is an operator use for divide"
   ]
  },
  {
   "cell_type": "code",
   "execution_count": 17,
   "id": "dfd7b8d8-f880-4199-9ad3-1694ee46d44c",
   "metadata": {},
   "outputs": [
    {
     "data": {
      "text/plain": [
       "2.0"
      ]
     },
     "execution_count": 17,
     "metadata": {},
     "output_type": "execute_result"
    }
   ],
   "source": [
    "4/2"
   ]
  },
  {
   "cell_type": "markdown",
   "id": "be698e75-1b45-4907-b0bc-7fada239caf7",
   "metadata": {},
   "source": [
    "% is an operator use to get the remainder"
   ]
  },
  {
   "cell_type": "code",
   "execution_count": 18,
   "id": "d2fc6d8f-d497-46be-ad56-e8cddee1b0b8",
   "metadata": {},
   "outputs": [
    {
     "data": {
      "text/plain": [
       "1"
      ]
     },
     "execution_count": 18,
     "metadata": {},
     "output_type": "execute_result"
    }
   ],
   "source": [
    "5%4"
   ]
  },
  {
   "cell_type": "code",
   "execution_count": 19,
   "id": "06a620a1-5a52-4b19-8b33-7ea31adc51eb",
   "metadata": {},
   "outputs": [
    {
     "data": {
      "text/plain": [
       "2"
      ]
     },
     "execution_count": 19,
     "metadata": {},
     "output_type": "execute_result"
    }
   ],
   "source": [
    "26%4"
   ]
  },
  {
   "cell_type": "markdown",
   "id": "8b7ff66d-357a-419b-b49a-d3bbe21c24cd",
   "metadata": {},
   "source": [
    "// is an operator use for find equivalent "
   ]
  },
  {
   "cell_type": "code",
   "execution_count": 21,
   "id": "2b893996-580b-4239-bb61-3b9e447af648",
   "metadata": {},
   "outputs": [
    {
     "data": {
      "text/plain": [
       "1"
      ]
     },
     "execution_count": 21,
     "metadata": {},
     "output_type": "execute_result"
    }
   ],
   "source": [
    "5//4"
   ]
  },
  {
   "cell_type": "code",
   "execution_count": 22,
   "id": "a1ca900b-5c8f-4c00-b15a-6e76feb13f7f",
   "metadata": {},
   "outputs": [
    {
     "data": {
      "text/plain": [
       "9"
      ]
     },
     "execution_count": 22,
     "metadata": {},
     "output_type": "execute_result"
    }
   ],
   "source": [
    "54//6"
   ]
  },
  {
   "cell_type": "code",
   "execution_count": 24,
   "id": "6436a2a3-726d-4fea-8d2b-ae7dcc980245",
   "metadata": {},
   "outputs": [
    {
     "data": {
      "text/plain": [
       "27"
      ]
     },
     "execution_count": 24,
     "metadata": {},
     "output_type": "execute_result"
    }
   ],
   "source": [
    "81//3"
   ]
  },
  {
   "cell_type": "markdown",
   "id": "60c3282f-c500-4f66-b0a1-e28d9333a1a4",
   "metadata": {},
   "source": [
    "** it is an power operator"
   ]
  },
  {
   "cell_type": "code",
   "execution_count": 25,
   "id": "4b8d8116-8436-4040-8e66-0fd5a9feccab",
   "metadata": {},
   "outputs": [
    {
     "data": {
      "text/plain": [
       "1"
      ]
     },
     "execution_count": 25,
     "metadata": {},
     "output_type": "execute_result"
    }
   ],
   "source": [
    "1**2"
   ]
  },
  {
   "cell_type": "code",
   "execution_count": 26,
   "id": "b999c754-5772-4252-a564-5638108b026f",
   "metadata": {},
   "outputs": [
    {
     "data": {
      "text/plain": [
       "4"
      ]
     },
     "execution_count": 26,
     "metadata": {},
     "output_type": "execute_result"
    }
   ],
   "source": [
    "2**2"
   ]
  },
  {
   "cell_type": "code",
   "execution_count": 27,
   "id": "55c40255-cf03-4681-b2fb-dc4e6cb68638",
   "metadata": {},
   "outputs": [
    {
     "data": {
      "text/plain": [
       "4096"
      ]
     },
     "execution_count": 27,
     "metadata": {},
     "output_type": "execute_result"
    }
   ],
   "source": [
    "4**6"
   ]
  },
  {
   "cell_type": "markdown",
   "id": "f96a9434-bbeb-4429-a940-0701dd9e8c03",
   "metadata": {},
   "source": [
    "Ans-4"
   ]
  },
  {
   "cell_type": "code",
   "execution_count": 32,
   "id": "ededc593-2f4c-4ae2-acf3-bb469d054919",
   "metadata": {},
   "outputs": [],
   "source": [
    "l1=[12,16,18,20,25,28,\"hello\",\"pwskills\",True,False]"
   ]
  },
  {
   "cell_type": "code",
   "execution_count": 33,
   "id": "c8883d13-f608-4850-b8d0-e1f8d7ac7699",
   "metadata": {},
   "outputs": [
    {
     "name": "stdout",
     "output_type": "stream",
     "text": [
      "12\n",
      "16\n",
      "18\n",
      "20\n",
      "25\n",
      "28\n",
      "hello\n",
      "pwskills\n",
      "True\n",
      "False\n"
     ]
    }
   ],
   "source": [
    "for i in l1 :\n",
    "    print(i)"
   ]
  },
  {
   "cell_type": "code",
   "execution_count": 34,
   "id": "1676f791-0405-4138-809c-119d4da3bfa0",
   "metadata": {},
   "outputs": [
    {
     "name": "stdout",
     "output_type": "stream",
     "text": [
      "<class 'int'>\n",
      "<class 'int'>\n",
      "<class 'int'>\n",
      "<class 'int'>\n",
      "<class 'int'>\n",
      "<class 'int'>\n",
      "<class 'str'>\n",
      "<class 'str'>\n",
      "<class 'bool'>\n",
      "<class 'bool'>\n"
     ]
    }
   ],
   "source": [
    "for i in l1 :\n",
    "    print(type(i))"
   ]
  },
  {
   "cell_type": "markdown",
   "id": "b85bfdf8-32b6-46e0-8c4f-4cd3ba5f0b9c",
   "metadata": {},
   "source": [
    "Ans5"
   ]
  },
  {
   "cell_type": "code",
   "execution_count": 37,
   "id": "5ebe32f6-ab6d-4298-9e72-e99f86b46d84",
   "metadata": {},
   "outputs": [
    {
     "name": "stdout",
     "output_type": "stream",
     "text": [
      "2\n",
      "2\n",
      "2\n",
      "2\n",
      "2\n",
      "2\n",
      "2\n",
      "2\n"
     ]
    }
   ],
   "source": [
    "n=512\n",
    "i=2\n",
    "while i < n :\n",
    "    print(i)\n",
    "    n=n/i"
   ]
  },
  {
   "cell_type": "markdown",
   "id": "f2ae23a8-282d-424c-8790-fc1b3e54997d",
   "metadata": {},
   "source": [
    "Ans6"
   ]
  },
  {
   "cell_type": "code",
   "execution_count": 54,
   "id": "f512dadb-5c09-40bc-822f-31154d404b8c",
   "metadata": {},
   "outputs": [],
   "source": [
    "l=[3,4,5,6,7,8,9,12,14,18,21,24,27,28,29,30,32,42,46,84,27,81,99,93,96]"
   ]
  },
  {
   "cell_type": "code",
   "execution_count": 75,
   "id": "62c65e56-a2bb-4935-949e-f1fc543ff212",
   "metadata": {},
   "outputs": [
    {
     "name": "stdout",
     "output_type": "stream",
     "text": [
      "it is divisible by 3\n",
      "it is divisible by 3\n",
      "it is divisible by 3\n",
      "it is divisible by 3\n",
      "it is divisible by 3\n",
      "it is divisible by 3\n",
      "it is divisible by 3\n",
      "it is divisible by 3\n",
      "it is divisible by 3\n",
      "it is divisible by 3\n",
      "it is divisible by 3\n",
      "it is divisible by 3\n",
      "it is divisible by 3\n",
      "it is divisible by 3\n",
      "it is divisible by 3\n",
      "it is divisible by 3\n",
      "it is not divisible by 3\n"
     ]
    }
   ],
   "source": [
    "for i in l :\n",
    "    if i%3 ==0:\n",
    "        print(\"it is divisible by 3\")\n",
    "else :\n",
    "            print(\"it is not divisible by 3\")\n",
    "    "
   ]
  },
  {
   "cell_type": "markdown",
   "id": "1fb3b8ed-68ce-4710-8609-10472f0067f3",
   "metadata": {},
   "source": [
    "ans6-"
   ]
  },
  {
   "cell_type": "markdown",
   "id": "738eeb80-b8ef-4419-9d7a-d03fcf353784",
   "metadata": {},
   "source": [
    "mutable data type are those type of the data in which we excess element by index no and re assign the vlaue on same index"
   ]
  },
  {
   "cell_type": "code",
   "execution_count": 77,
   "id": "a732b27d-0a40-40c0-9586-2657dc7d83da",
   "metadata": {},
   "outputs": [
    {
     "data": {
      "text/plain": [
       "[3,\n",
       " 4,\n",
       " 5,\n",
       " 6,\n",
       " 7,\n",
       " 8,\n",
       " 9,\n",
       " 12,\n",
       " 14,\n",
       " 18,\n",
       " 21,\n",
       " 24,\n",
       " 27,\n",
       " 28,\n",
       " 29,\n",
       " 30,\n",
       " 32,\n",
       " 42,\n",
       " 46,\n",
       " 84,\n",
       " 27,\n",
       " 81,\n",
       " 99,\n",
       " 93,\n",
       " 96]"
      ]
     },
     "execution_count": 77,
     "metadata": {},
     "output_type": "execute_result"
    }
   ],
   "source": [
    "l"
   ]
  },
  {
   "cell_type": "code",
   "execution_count": 79,
   "id": "bfd0e848-8ee5-439c-9098-b4a289629d23",
   "metadata": {},
   "outputs": [],
   "source": [
    "l[4]=\"pwskills\""
   ]
  },
  {
   "cell_type": "code",
   "execution_count": 80,
   "id": "af01f814-1c47-44e5-a975-2a3b4ca19e98",
   "metadata": {},
   "outputs": [
    {
     "data": {
      "text/plain": [
       "[3,\n",
       " 4,\n",
       " 5,\n",
       " 6,\n",
       " 'pwskills',\n",
       " 8,\n",
       " 9,\n",
       " 12,\n",
       " 14,\n",
       " 18,\n",
       " 21,\n",
       " 24,\n",
       " 27,\n",
       " 28,\n",
       " 29,\n",
       " 30,\n",
       " 32,\n",
       " 42,\n",
       " 46,\n",
       " 84,\n",
       " 27,\n",
       " 81,\n",
       " 99,\n",
       " 93,\n",
       " 96]"
      ]
     },
     "execution_count": 80,
     "metadata": {},
     "output_type": "execute_result"
    }
   ],
   "source": [
    "l"
   ]
  },
  {
   "cell_type": "code",
   "execution_count": null,
   "id": "8d7c69b1-8d60-4237-9217-a59a16f985b4",
   "metadata": {},
   "outputs": [],
   "source": [
    "immutable data type are those type of data type in which "
   ]
  }
 ],
 "metadata": {
  "kernelspec": {
   "display_name": "Python 3 (ipykernel)",
   "language": "python",
   "name": "python3"
  },
  "language_info": {
   "codemirror_mode": {
    "name": "ipython",
    "version": 3
   },
   "file_extension": ".py",
   "mimetype": "text/x-python",
   "name": "python",
   "nbconvert_exporter": "python",
   "pygments_lexer": "ipython3",
   "version": "3.10.8"
  }
 },
 "nbformat": 4,
 "nbformat_minor": 5
}
